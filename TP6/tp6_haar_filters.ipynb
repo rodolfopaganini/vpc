{
 "cells": [
  {
   "cell_type": "code",
   "execution_count": 1,
   "metadata": {},
   "outputs": [],
   "source": [
    "import cv2 as cv\n",
    "import time\n",
    "import os"
   ]
  },
  {
   "cell_type": "code",
   "execution_count": 2,
   "metadata": {},
   "outputs": [],
   "source": [
    "# Leemos los clasificadores pre-entrenados (instalados en cv2/data/haarcascades/)\n",
    "#--------------------------------------------------------------------------------\n",
    "models_path = 'C:\\\\ProgramData\\Anaconda3\\Lib\\site-packages\\cv2\\data'\n",
    "face_cascade = cv.CascadeClassifier(os.path.join(models_path, 'haarcascade_frontalface_default.xml'))\n",
    "eye_cascade = cv.CascadeClassifier(os.path.join(models_path, 'haarcascade_eye.xml'))\n",
    "smile_cascade = cv.CascadeClassifier(os.path.join(models_path, 'haarcascade_smile.xml'))"
   ]
  },
  {
   "cell_type": "code",
   "execution_count": 5,
   "metadata": {},
   "outputs": [],
   "source": [
    "# Tomamos el primer frame del video\n",
    "#----------------------------------\n",
    "cap = cv.VideoCapture(0)\n",
    "ret, originalImage = cap.read()\n",
    "cv.imshow('foto', originalImage)\n",
    "\n",
    "cv.waitKey(0) \n",
    "cv.destroyAllWindows()\n"
   ]
  },
  {
   "cell_type": "code",
   "execution_count": 6,
   "metadata": {},
   "outputs": [],
   "source": [
    "# Cargamos la imagen a analizar\n",
    "#------------------------------\n",
    "# originalImage = cv.imread('Rollings.jpg')\n",
    "\n",
    "# Pasamos la imagen a escala de grises\n",
    "#-------------------------------------\n",
    "grayImage = cv.cvtColor(originalImage, cv.COLOR_BGR2GRAY)\n",
    "grayImage = cv.equalizeHist(grayImage)\n",
    "\n",
    "# Llamamos al clasificador de Haar (AdaBoost)\n",
    "#--------------------------------------------\n",
    "#faces = face_cascade.detectMultiScale(grayImage, 1.012, 5)\n",
    "faces = face_cascade.detectMultiScale(grayImage, 1.1, 5)#, minSize= (100,130),maxSize=(200,400))\n",
    "\n",
    "# Recorro las caras encontradas\n",
    "#------------------------------\n",
    "for (x,y,w,h) in faces:\n",
    "    # Le dibujamos un rectángulo amarillo\n",
    "    cv.rectangle(originalImage,(x,y),(x+w,y+h),(255,255,0),2)\n",
    "    # Definimos las ROIs en la imagen gris y color\n",
    "    roi_gray = grayImage[y:y+h, x:x+w] \n",
    "    roi_color = originalImage[y:y+h, x:x+w]\n",
    "\n",
    "    # Para cada rostro hallado le buscamos los ojos\n",
    "    eyes = eye_cascade.detectMultiScale(roi_gray)\n",
    "    # En los ojos hallados les dibujamos rectángulos\n",
    "    for (ex,ey,ew,eh) in eyes:\n",
    "        cv.rectangle(roi_color,(ex,ey),(ex+ew,ey+eh),(0,255,0),2)\n",
    "    \n",
    "    # Para cada rostro hallado le buscamos la sonrisa\n",
    "    smile = smile_cascade.detectMultiScale(roi_gray)[0]\n",
    "    # En la sonrisa hallada les dibujamos un rectángulo azul\n",
    "    ex,ey,ew,eh = smile\n",
    "    cv.rectangle(roi_color,(ex,ey),(ex+ew,ey+eh),(0,0,255),2)\n",
    "\n",
    "cv.imwrite('C:\\\\Users\\\\rodol\\\\Desktop\\\\especializacion\\\\vpc\\\\TP6\\\\image.png', originalImage)\n",
    "cv.imshow('Detección de caras con filtros de Haar en cascada',originalImage)\n",
    "cv.waitKey(0)\n",
    "cv.destroyAllWindows()\n"
   ]
  },
  {
   "cell_type": "code",
   "execution_count": null,
   "metadata": {},
   "outputs": [],
   "source": []
  }
 ],
 "metadata": {
  "kernelspec": {
   "display_name": "Python 3",
   "language": "python",
   "name": "python3"
  },
  "language_info": {
   "codemirror_mode": {
    "name": "ipython",
    "version": 3
   },
   "file_extension": ".py",
   "mimetype": "text/x-python",
   "name": "python",
   "nbconvert_exporter": "python",
   "pygments_lexer": "ipython3",
   "version": "3.7.3"
  }
 },
 "nbformat": 4,
 "nbformat_minor": 2
}
